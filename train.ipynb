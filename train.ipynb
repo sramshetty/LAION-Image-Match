{
 "cells": [
  {
   "cell_type": "markdown",
   "metadata": {},
   "source": [
    "### Setup Environment"
   ]
  },
  {
   "cell_type": "code",
   "execution_count": 1,
   "metadata": {},
   "outputs": [],
   "source": [
    "!source ../venv/bin/activate"
   ]
  },
  {
   "cell_type": "code",
   "execution_count": 2,
   "metadata": {},
   "outputs": [],
   "source": [
    "from data.abo_spin_dataset import AboSpinsDataset\n",
    "import torch\n",
    "import torch.nn as nn\n",
    "from torch.utils.data import DataLoader\n",
    "import pandas as pd\n",
    "import numpy as np\n",
    "from sys import path\n",
    "from PIL import Image\n",
    "from tqdm import tqdm\n",
    "from sklearn.metrics import classification_report"
   ]
  },
  {
   "cell_type": "code",
   "execution_count": 3,
   "metadata": {},
   "outputs": [],
   "source": [
    "from models.self_attention_pool import SelfAttentionalPooler\n",
    "from models.seq_attn import SeqAttention"
   ]
  },
  {
   "cell_type": "code",
   "execution_count": 4,
   "metadata": {},
   "outputs": [],
   "source": [
    "from transformers import AutoProcessor, AutoModel"
   ]
  },
  {
   "cell_type": "code",
   "execution_count": 5,
   "metadata": {},
   "outputs": [
    {
     "data": {
      "text/plain": [
       "'cuda'"
      ]
     },
     "execution_count": 5,
     "metadata": {},
     "output_type": "execute_result"
    }
   ],
   "source": [
    "device = \"cuda\" if torch.cuda.is_available() else \"cpu\"\n",
    "device"
   ]
  },
  {
   "cell_type": "markdown",
   "metadata": {},
   "source": [
    "### Fetch and Load Data"
   ]
  },
  {
   "cell_type": "code",
   "execution_count": 6,
   "metadata": {},
   "outputs": [],
   "source": [
    "abo_metadata = \"../../spirit/spins/metadata/spins.csv.gz\"\n",
    "abo_images = \"../../spirit/spins/original/\""
   ]
  },
  {
   "cell_type": "code",
   "execution_count": 7,
   "metadata": {},
   "outputs": [
    {
     "data": {
      "text/html": [
       "<div>\n",
       "<style scoped>\n",
       "    .dataframe tbody tr th:only-of-type {\n",
       "        vertical-align: middle;\n",
       "    }\n",
       "\n",
       "    .dataframe tbody tr th {\n",
       "        vertical-align: top;\n",
       "    }\n",
       "\n",
       "    .dataframe thead th {\n",
       "        text-align: right;\n",
       "    }\n",
       "</style>\n",
       "<table border=\"1\" class=\"dataframe\">\n",
       "  <thead>\n",
       "    <tr style=\"text-align: right;\">\n",
       "      <th></th>\n",
       "      <th>spin_id</th>\n",
       "      <th>azimuth</th>\n",
       "      <th>image_id</th>\n",
       "      <th>height</th>\n",
       "      <th>width</th>\n",
       "      <th>path</th>\n",
       "    </tr>\n",
       "  </thead>\n",
       "  <tbody>\n",
       "    <tr>\n",
       "      <th>0</th>\n",
       "      <td>61c91265</td>\n",
       "      <td>0</td>\n",
       "      <td>41wqHws7a6L</td>\n",
       "      <td>248</td>\n",
       "      <td>1075</td>\n",
       "      <td>61/61c91265/61c91265_00.jpg</td>\n",
       "    </tr>\n",
       "    <tr>\n",
       "      <th>1</th>\n",
       "      <td>61c91265</td>\n",
       "      <td>1</td>\n",
       "      <td>41++eZZHP9L</td>\n",
       "      <td>248</td>\n",
       "      <td>1075</td>\n",
       "      <td>61/61c91265/61c91265_01.jpg</td>\n",
       "    </tr>\n",
       "    <tr>\n",
       "      <th>2</th>\n",
       "      <td>61c91265</td>\n",
       "      <td>2</td>\n",
       "      <td>41YF86LhGDL</td>\n",
       "      <td>248</td>\n",
       "      <td>1075</td>\n",
       "      <td>61/61c91265/61c91265_02.jpg</td>\n",
       "    </tr>\n",
       "    <tr>\n",
       "      <th>3</th>\n",
       "      <td>61c91265</td>\n",
       "      <td>3</td>\n",
       "      <td>41I5Zz-kbAL</td>\n",
       "      <td>248</td>\n",
       "      <td>1075</td>\n",
       "      <td>61/61c91265/61c91265_03.jpg</td>\n",
       "    </tr>\n",
       "    <tr>\n",
       "      <th>4</th>\n",
       "      <td>61c91265</td>\n",
       "      <td>4</td>\n",
       "      <td>41lAQM2Ys5L</td>\n",
       "      <td>248</td>\n",
       "      <td>1075</td>\n",
       "      <td>61/61c91265/61c91265_04.jpg</td>\n",
       "    </tr>\n",
       "  </tbody>\n",
       "</table>\n",
       "</div>"
      ],
      "text/plain": [
       "    spin_id  azimuth     image_id  height  width                         path\n",
       "0  61c91265        0  41wqHws7a6L     248   1075  61/61c91265/61c91265_00.jpg\n",
       "1  61c91265        1  41++eZZHP9L     248   1075  61/61c91265/61c91265_01.jpg\n",
       "2  61c91265        2  41YF86LhGDL     248   1075  61/61c91265/61c91265_02.jpg\n",
       "3  61c91265        3  41I5Zz-kbAL     248   1075  61/61c91265/61c91265_03.jpg\n",
       "4  61c91265        4  41lAQM2Ys5L     248   1075  61/61c91265/61c91265_04.jpg"
      ]
     },
     "execution_count": 7,
     "metadata": {},
     "output_type": "execute_result"
    }
   ],
   "source": [
    "df = pd.read_csv(abo_metadata)\n",
    "df.head()"
   ]
  },
  {
   "cell_type": "code",
   "execution_count": 8,
   "metadata": {},
   "outputs": [],
   "source": [
    "unique_spins = list(df['spin_id'].unique())\n",
    "unique_spins = np.random.permutation(unique_spins)"
   ]
  },
  {
   "cell_type": "code",
   "execution_count": 9,
   "metadata": {},
   "outputs": [
    {
     "name": "stdout",
     "output_type": "stream",
     "text": [
      "4925 1642 1642\n"
     ]
    }
   ],
   "source": [
    "n_spins = len(unique_spins)\n",
    "seq_length = 10\n",
    "\n",
    "abo_train = AboSpinsDataset(df[df['spin_id'].isin(unique_spins[:int(n_spins*0.6)])], image_dir=abo_images, seq_len=seq_length)\n",
    "abo_val = AboSpinsDataset(df[df['spin_id'].isin(unique_spins[int(n_spins*0.6):int(n_spins*0.8)])], mode=\"val\", image_dir=abo_images, seq_len=seq_length)\n",
    "abo_test = AboSpinsDataset(df[df['spin_id'].isin(unique_spins[int(n_spins*0.8):])], mode=\"test\", image_dir=abo_images, seq_len=seq_length)\n",
    "\n",
    "print(len(abo_train), len(abo_val), len(abo_test))"
   ]
  },
  {
   "cell_type": "code",
   "execution_count": 10,
   "metadata": {},
   "outputs": [],
   "source": [
    "# ***Run to check negative sampling ratio***\n",
    "# print(\"Negative Sample Ratio in Train: %f\" % (np.mean([1 if x[1] == False else 0 for x in abo_train])))\n",
    "# print(\"Negative Sample Ratio in Val: %f\" % (np.mean([1 if x[1] == False else 0 for x in abo_val])))\n",
    "# print(\"Negative Sample Ratio in Test: %f\" % (np.mean([1 if x[1] == False else 0 for x in abo_test])))"
   ]
  },
  {
   "cell_type": "code",
   "execution_count": 11,
   "metadata": {},
   "outputs": [],
   "source": [
    "processor = AutoProcessor.from_pretrained(\"laion/CLIP-ViT-H-14-laion2B-s32B-b79K\")\n",
    "clip_model = AutoModel.from_pretrained(\"laion/CLIP-ViT-H-14-laion2B-s32B-b79K\")\n",
    "clip_model.to(device)\n",
    "\n",
    "def collate_fn(batch):\n",
    "    features = []\n",
    "    labels = []\n",
    "    for x, label in batch:\n",
    "        imgs = [Image.open(path) for path in x]\n",
    "        inputs = processor(images=imgs, return_tensors='pt')\n",
    "        inputs.to(device)\n",
    "        \n",
    "        features.append(clip_model.get_image_features(**inputs).unsqueeze(0).detach())\n",
    "        labels += [1] if label else [0]\n",
    "\n",
    "    return torch.cat(features), labels"
   ]
  },
  {
   "cell_type": "code",
   "execution_count": 12,
   "metadata": {},
   "outputs": [],
   "source": [
    "train_loader = DataLoader(abo_train, batch_size=16, shuffle=True, collate_fn=collate_fn)\n",
    "val_loader = DataLoader(abo_val, batch_size=16, shuffle=True, collate_fn=collate_fn)\n",
    "test_loader = DataLoader(abo_test, batch_size=16, shuffle=True, collate_fn=collate_fn)"
   ]
  },
  {
   "cell_type": "markdown",
   "metadata": {},
   "source": [
    "### Trainer"
   ]
  },
  {
   "cell_type": "code",
   "execution_count": 13,
   "metadata": {},
   "outputs": [],
   "source": [
    "def train(model, dataloader, criterion, optimizer):\n",
    "    model.train()\n",
    "    \n",
    "    predictions = []\n",
    "    targets = []\n",
    "    \n",
    "    epoch_loss = 0\n",
    "    batch_loss = 0\n",
    "    for i, batch in enumerate(tqdm(dataloader)):\n",
    "        out = model(batch[0].to(device))\n",
    "        out = torch.squeeze(torch.sigmoid(out).cpu(), 1)\n",
    "\n",
    "        loss = criterion(out, torch.tensor(batch[1], dtype=torch.float))\n",
    "\n",
    "        preds = torch.where(out >= 0.5, 1, 0)\n",
    "        predictions += preds.detach().tolist()\n",
    "        targets += batch[1]\n",
    "\n",
    "        epoch_loss += loss.item()\n",
    "        loss.backward()\n",
    "\n",
    "        optimizer.step()\n",
    "        optimizer.zero_grad()\n",
    "        \n",
    "        batch_loss += loss.item()\n",
    "        if (i+1) % 100 == 0:\n",
    "            print(f\"Loss at step {i+1}/{len(dataloader)}: {batch_loss/100}\")\n",
    "            batch_loss = 0\n",
    "\n",
    "    print(f\"Loss: {epoch_loss/len(dataloader)}\")\n",
    "    \n",
    "    print(classification_report(targets, predictions))\n",
    "    return"
   ]
  },
  {
   "cell_type": "markdown",
   "metadata": {},
   "source": [
    "### Evaluation"
   ]
  },
  {
   "cell_type": "code",
   "execution_count": 14,
   "metadata": {},
   "outputs": [],
   "source": [
    "def validate(model, dataloader):\n",
    "    model.eval()\n",
    "    \n",
    "    predictions = []\n",
    "    targets = []\n",
    "    \n",
    "    total_loss = 0\n",
    "    for batch in tqdm(dataloader):\n",
    "        with torch.no_grad():\n",
    "            out = model(batch[0].to(device))\n",
    "            out = torch.squeeze(torch.sigmoid(out).cpu(), 1)\n",
    "\n",
    "            loss = criterion(out, torch.tensor(batch[1], dtype=torch.float))\n",
    "\n",
    "            preds = torch.where(out >= 0.5, 1, 0)\n",
    "            predictions += preds.detach().tolist()\n",
    "            targets += batch[1]\n",
    "\n",
    "            total_loss += loss.item()\n",
    "\n",
    "    print(f\"Loss: {total_loss/len(dataloader)}\")\n",
    "    \n",
    "    print(classification_report(targets, predictions))\n",
    "    return"
   ]
  },
  {
   "cell_type": "markdown",
   "metadata": {},
   "source": [
    "### Instantiate Model"
   ]
  },
  {
   "cell_type": "code",
   "execution_count": 15,
   "metadata": {},
   "outputs": [],
   "source": [
    "# model = SelfAttentionalPooler(dim=1024, seq_len=seq_length, heads=8, dim_head=64, depth=1, mlp_dim=256, proj_dim=1, dropout=0.4)\n",
    "model = SeqAttention(dim=1024, seq_len=seq_length, heads=8, dim_head=64, depth=1, lstm_dim=256, lstm_layers=2, bidirectional=True, mlp_dim=512, proj_dim=1, dropout = 0.4)"
   ]
  },
  {
   "cell_type": "markdown",
   "metadata": {},
   "source": [
    "### Train Model"
   ]
  },
  {
   "cell_type": "code",
   "execution_count": 16,
   "metadata": {},
   "outputs": [],
   "source": [
    "model.to(device)\n",
    "\n",
    "n_epochs = 5\n",
    "criterion = nn.BCELoss()\n",
    "optimizer = torch.optim.AdamW(model.parameters(), lr=1e-3)"
   ]
  },
  {
   "cell_type": "code",
   "execution_count": 17,
   "metadata": {},
   "outputs": [
    {
     "name": "stdout",
     "output_type": "stream",
     "text": [
      "---------- TRAIN EPOCH: 0 ----------\n"
     ]
    },
    {
     "name": "stderr",
     "output_type": "stream",
     "text": [
      " 32%|███▏      | 100/308 [07:27<15:11,  4.38s/it]"
     ]
    },
    {
     "name": "stdout",
     "output_type": "stream",
     "text": [
      "Loss at step 100/308: 0.7478242415189743\n"
     ]
    },
    {
     "name": "stderr",
     "output_type": "stream",
     "text": [
      " 65%|██████▍   | 200/308 [14:58<07:56,  4.41s/it]"
     ]
    },
    {
     "name": "stdout",
     "output_type": "stream",
     "text": [
      "Loss at step 200/308: 0.7107023245096207\n"
     ]
    },
    {
     "name": "stderr",
     "output_type": "stream",
     "text": [
      " 97%|█████████▋| 300/308 [22:25<00:35,  4.45s/it]"
     ]
    },
    {
     "name": "stdout",
     "output_type": "stream",
     "text": [
      "Loss at step 300/308: 0.710358037352562\n"
     ]
    },
    {
     "name": "stderr",
     "output_type": "stream",
     "text": [
      "100%|██████████| 308/308 [23:00<00:00,  4.48s/it]\n"
     ]
    },
    {
     "name": "stdout",
     "output_type": "stream",
     "text": [
      "Loss: 0.7221521713903972\n",
      "              precision    recall  f1-score   support\n",
      "\n",
      "           0       0.50      0.47      0.48      2436\n",
      "           1       0.51      0.53      0.52      2489\n",
      "\n",
      "    accuracy                           0.50      4925\n",
      "   macro avg       0.50      0.50      0.50      4925\n",
      "weighted avg       0.50      0.50      0.50      4925\n",
      "\n",
      "---------- VALID EPOCH: 0 ----------\n"
     ]
    },
    {
     "name": "stderr",
     "output_type": "stream",
     "text": [
      "100%|██████████| 103/103 [06:52<00:00,  4.01s/it]\n",
      "/fsx/shivr/venv/lib64/python3.7/site-packages/sklearn/metrics/_classification.py:1318: UndefinedMetricWarning: Precision and F-score are ill-defined and being set to 0.0 in labels with no predicted samples. Use `zero_division` parameter to control this behavior.\n",
      "  _warn_prf(average, modifier, msg_start, len(result))\n",
      "/fsx/shivr/venv/lib64/python3.7/site-packages/sklearn/metrics/_classification.py:1318: UndefinedMetricWarning: Precision and F-score are ill-defined and being set to 0.0 in labels with no predicted samples. Use `zero_division` parameter to control this behavior.\n",
      "  _warn_prf(average, modifier, msg_start, len(result))\n",
      "/fsx/shivr/venv/lib64/python3.7/site-packages/sklearn/metrics/_classification.py:1318: UndefinedMetricWarning: Precision and F-score are ill-defined and being set to 0.0 in labels with no predicted samples. Use `zero_division` parameter to control this behavior.\n",
      "  _warn_prf(average, modifier, msg_start, len(result))\n"
     ]
    },
    {
     "name": "stdout",
     "output_type": "stream",
     "text": [
      "Loss: 0.7027467934830675\n",
      "              precision    recall  f1-score   support\n",
      "\n",
      "           0       0.51      1.00      0.68       845\n",
      "           1       0.00      0.00      0.00       797\n",
      "\n",
      "    accuracy                           0.51      1642\n",
      "   macro avg       0.26      0.50      0.34      1642\n",
      "weighted avg       0.26      0.51      0.35      1642\n",
      "\n",
      "\n",
      "---------- TRAIN EPOCH: 1 ----------\n"
     ]
    },
    {
     "name": "stderr",
     "output_type": "stream",
     "text": [
      " 32%|███▏      | 100/308 [07:27<15:24,  4.44s/it]"
     ]
    },
    {
     "name": "stdout",
     "output_type": "stream",
     "text": [
      "Loss at step 100/308: 0.6995111566781997\n"
     ]
    },
    {
     "name": "stderr",
     "output_type": "stream",
     "text": [
      " 65%|██████▍   | 200/308 [14:58<07:50,  4.36s/it]"
     ]
    },
    {
     "name": "stdout",
     "output_type": "stream",
     "text": [
      "Loss at step 200/308: 0.6982843059301377\n"
     ]
    },
    {
     "name": "stderr",
     "output_type": "stream",
     "text": [
      " 97%|█████████▋| 300/308 [22:28<00:36,  4.56s/it]"
     ]
    },
    {
     "name": "stdout",
     "output_type": "stream",
     "text": [
      "Loss at step 300/308: 0.6973169517517089\n"
     ]
    },
    {
     "name": "stderr",
     "output_type": "stream",
     "text": [
      "100%|██████████| 308/308 [23:02<00:00,  4.49s/it]\n"
     ]
    },
    {
     "name": "stdout",
     "output_type": "stream",
     "text": [
      "Loss: 0.6982060214141746\n",
      "              precision    recall  f1-score   support\n",
      "\n",
      "           0       0.51      0.57      0.54      2495\n",
      "           1       0.50      0.44      0.47      2430\n",
      "\n",
      "    accuracy                           0.51      4925\n",
      "   macro avg       0.50      0.50      0.50      4925\n",
      "weighted avg       0.50      0.51      0.50      4925\n",
      "\n",
      "---------- VALID EPOCH: 1 ----------\n"
     ]
    },
    {
     "name": "stderr",
     "output_type": "stream",
     "text": [
      "100%|██████████| 103/103 [06:52<00:00,  4.01s/it]\n",
      "/fsx/shivr/venv/lib64/python3.7/site-packages/sklearn/metrics/_classification.py:1318: UndefinedMetricWarning: Precision and F-score are ill-defined and being set to 0.0 in labels with no predicted samples. Use `zero_division` parameter to control this behavior.\n",
      "  _warn_prf(average, modifier, msg_start, len(result))\n",
      "/fsx/shivr/venv/lib64/python3.7/site-packages/sklearn/metrics/_classification.py:1318: UndefinedMetricWarning: Precision and F-score are ill-defined and being set to 0.0 in labels with no predicted samples. Use `zero_division` parameter to control this behavior.\n",
      "  _warn_prf(average, modifier, msg_start, len(result))\n",
      "/fsx/shivr/venv/lib64/python3.7/site-packages/sklearn/metrics/_classification.py:1318: UndefinedMetricWarning: Precision and F-score are ill-defined and being set to 0.0 in labels with no predicted samples. Use `zero_division` parameter to control this behavior.\n",
      "  _warn_prf(average, modifier, msg_start, len(result))\n"
     ]
    },
    {
     "name": "stdout",
     "output_type": "stream",
     "text": [
      "Loss: 0.6974951474411973\n",
      "              precision    recall  f1-score   support\n",
      "\n",
      "           0       0.00      0.00      0.00       823\n",
      "           1       0.50      1.00      0.67       819\n",
      "\n",
      "    accuracy                           0.50      1642\n",
      "   macro avg       0.25      0.50      0.33      1642\n",
      "weighted avg       0.25      0.50      0.33      1642\n",
      "\n",
      "\n",
      "---------- TRAIN EPOCH: 2 ----------\n"
     ]
    },
    {
     "name": "stderr",
     "output_type": "stream",
     "text": [
      " 32%|███▏      | 100/308 [07:26<15:17,  4.41s/it]"
     ]
    },
    {
     "name": "stdout",
     "output_type": "stream",
     "text": [
      "Loss at step 100/308: 0.6980994862318038\n"
     ]
    },
    {
     "name": "stderr",
     "output_type": "stream",
     "text": [
      " 65%|██████▍   | 200/308 [14:56<07:54,  4.39s/it]"
     ]
    },
    {
     "name": "stdout",
     "output_type": "stream",
     "text": [
      "Loss at step 200/308: 0.6976942718029022\n"
     ]
    },
    {
     "name": "stderr",
     "output_type": "stream",
     "text": [
      " 97%|█████████▋| 300/308 [22:24<00:35,  4.45s/it]"
     ]
    },
    {
     "name": "stdout",
     "output_type": "stream",
     "text": [
      "Loss at step 300/308: 0.6952277302742005\n"
     ]
    },
    {
     "name": "stderr",
     "output_type": "stream",
     "text": [
      "100%|██████████| 308/308 [22:59<00:00,  4.48s/it]\n"
     ]
    },
    {
     "name": "stdout",
     "output_type": "stream",
     "text": [
      "Loss: 0.696885261055711\n",
      "              precision    recall  f1-score   support\n",
      "\n",
      "           0       0.48      0.36      0.41      2393\n",
      "           1       0.51      0.63      0.56      2532\n",
      "\n",
      "    accuracy                           0.50      4925\n",
      "   macro avg       0.50      0.50      0.49      4925\n",
      "weighted avg       0.50      0.50      0.49      4925\n",
      "\n",
      "---------- VALID EPOCH: 2 ----------\n"
     ]
    },
    {
     "name": "stderr",
     "output_type": "stream",
     "text": [
      "100%|██████████| 103/103 [06:51<00:00,  4.00s/it]\n",
      "/fsx/shivr/venv/lib64/python3.7/site-packages/sklearn/metrics/_classification.py:1318: UndefinedMetricWarning: Precision and F-score are ill-defined and being set to 0.0 in labels with no predicted samples. Use `zero_division` parameter to control this behavior.\n",
      "  _warn_prf(average, modifier, msg_start, len(result))\n",
      "/fsx/shivr/venv/lib64/python3.7/site-packages/sklearn/metrics/_classification.py:1318: UndefinedMetricWarning: Precision and F-score are ill-defined and being set to 0.0 in labels with no predicted samples. Use `zero_division` parameter to control this behavior.\n",
      "  _warn_prf(average, modifier, msg_start, len(result))\n",
      "/fsx/shivr/venv/lib64/python3.7/site-packages/sklearn/metrics/_classification.py:1318: UndefinedMetricWarning: Precision and F-score are ill-defined and being set to 0.0 in labels with no predicted samples. Use `zero_division` parameter to control this behavior.\n",
      "  _warn_prf(average, modifier, msg_start, len(result))\n"
     ]
    },
    {
     "name": "stdout",
     "output_type": "stream",
     "text": [
      "Loss: 0.6933911269150891\n",
      "              precision    recall  f1-score   support\n",
      "\n",
      "           0       0.51      1.00      0.68       837\n",
      "           1       0.00      0.00      0.00       805\n",
      "\n",
      "    accuracy                           0.51      1642\n",
      "   macro avg       0.25      0.50      0.34      1642\n",
      "weighted avg       0.26      0.51      0.34      1642\n",
      "\n",
      "\n",
      "---------- TRAIN EPOCH: 3 ----------\n"
     ]
    },
    {
     "name": "stderr",
     "output_type": "stream",
     "text": [
      " 32%|███▏      | 100/308 [07:27<15:13,  4.39s/it]"
     ]
    },
    {
     "name": "stdout",
     "output_type": "stream",
     "text": [
      "Loss at step 100/308: 0.6971805536746979\n"
     ]
    },
    {
     "name": "stderr",
     "output_type": "stream",
     "text": [
      " 65%|██████▍   | 200/308 [15:00<08:39,  4.81s/it]"
     ]
    },
    {
     "name": "stdout",
     "output_type": "stream",
     "text": [
      "Loss at step 200/308: 0.6989988607168197\n"
     ]
    },
    {
     "name": "stderr",
     "output_type": "stream",
     "text": [
      " 97%|█████████▋| 300/308 [22:27<00:37,  4.74s/it]"
     ]
    },
    {
     "name": "stdout",
     "output_type": "stream",
     "text": [
      "Loss at step 300/308: 0.6988480448722839\n"
     ]
    },
    {
     "name": "stderr",
     "output_type": "stream",
     "text": [
      "100%|██████████| 308/308 [23:01<00:00,  4.48s/it]\n"
     ]
    },
    {
     "name": "stdout",
     "output_type": "stream",
     "text": [
      "Loss: 0.6982746133943657\n",
      "              precision    recall  f1-score   support\n",
      "\n",
      "           0       0.48      0.47      0.48      2443\n",
      "           1       0.49      0.51      0.50      2482\n",
      "\n",
      "    accuracy                           0.49      4925\n",
      "   macro avg       0.49      0.49      0.49      4925\n",
      "weighted avg       0.49      0.49      0.49      4925\n",
      "\n",
      "---------- VALID EPOCH: 3 ----------\n"
     ]
    },
    {
     "name": "stderr",
     "output_type": "stream",
     "text": [
      "100%|██████████| 103/103 [06:52<00:00,  4.00s/it]\n",
      "/fsx/shivr/venv/lib64/python3.7/site-packages/sklearn/metrics/_classification.py:1318: UndefinedMetricWarning: Precision and F-score are ill-defined and being set to 0.0 in labels with no predicted samples. Use `zero_division` parameter to control this behavior.\n",
      "  _warn_prf(average, modifier, msg_start, len(result))\n",
      "/fsx/shivr/venv/lib64/python3.7/site-packages/sklearn/metrics/_classification.py:1318: UndefinedMetricWarning: Precision and F-score are ill-defined and being set to 0.0 in labels with no predicted samples. Use `zero_division` parameter to control this behavior.\n",
      "  _warn_prf(average, modifier, msg_start, len(result))\n",
      "/fsx/shivr/venv/lib64/python3.7/site-packages/sklearn/metrics/_classification.py:1318: UndefinedMetricWarning: Precision and F-score are ill-defined and being set to 0.0 in labels with no predicted samples. Use `zero_division` parameter to control this behavior.\n",
      "  _warn_prf(average, modifier, msg_start, len(result))\n"
     ]
    },
    {
     "name": "stdout",
     "output_type": "stream",
     "text": [
      "Loss: 0.6939754214101624\n",
      "              precision    recall  f1-score   support\n",
      "\n",
      "           0       0.00      0.00      0.00       836\n",
      "           1       0.49      1.00      0.66       806\n",
      "\n",
      "    accuracy                           0.49      1642\n",
      "   macro avg       0.25      0.50      0.33      1642\n",
      "weighted avg       0.24      0.49      0.32      1642\n",
      "\n",
      "\n",
      "---------- TRAIN EPOCH: 4 ----------\n"
     ]
    },
    {
     "name": "stderr",
     "output_type": "stream",
     "text": [
      " 32%|███▏      | 100/308 [07:30<15:35,  4.50s/it]"
     ]
    },
    {
     "name": "stdout",
     "output_type": "stream",
     "text": [
      "Loss at step 100/308: 0.6988257193565368\n"
     ]
    },
    {
     "name": "stderr",
     "output_type": "stream",
     "text": [
      " 65%|██████▍   | 200/308 [14:59<08:03,  4.48s/it]"
     ]
    },
    {
     "name": "stdout",
     "output_type": "stream",
     "text": [
      "Loss at step 200/308: 0.6991364145278931\n"
     ]
    },
    {
     "name": "stderr",
     "output_type": "stream",
     "text": [
      " 97%|█████████▋| 300/308 [22:30<00:35,  4.50s/it]"
     ]
    },
    {
     "name": "stdout",
     "output_type": "stream",
     "text": [
      "Loss at step 300/308: 0.6978613805770874\n"
     ]
    },
    {
     "name": "stderr",
     "output_type": "stream",
     "text": [
      "100%|██████████| 308/308 [23:06<00:00,  4.50s/it]\n"
     ]
    },
    {
     "name": "stdout",
     "output_type": "stream",
     "text": [
      "Loss: 0.69844455726735\n",
      "              precision    recall  f1-score   support\n",
      "\n",
      "           0       0.49      0.41      0.45      2442\n",
      "           1       0.50      0.57      0.53      2483\n",
      "\n",
      "    accuracy                           0.49      4925\n",
      "   macro avg       0.49      0.49      0.49      4925\n",
      "weighted avg       0.49      0.49      0.49      4925\n",
      "\n",
      "---------- VALID EPOCH: 4 ----------\n"
     ]
    },
    {
     "name": "stderr",
     "output_type": "stream",
     "text": [
      "100%|██████████| 103/103 [06:52<00:00,  4.00s/it]"
     ]
    },
    {
     "name": "stdout",
     "output_type": "stream",
     "text": [
      "Loss: 0.6987388463853632\n",
      "              precision    recall  f1-score   support\n",
      "\n",
      "           0       0.49      1.00      0.66       807\n",
      "           1       0.00      0.00      0.00       835\n",
      "\n",
      "    accuracy                           0.49      1642\n",
      "   macro avg       0.25      0.50      0.33      1642\n",
      "weighted avg       0.24      0.49      0.32      1642\n",
      "\n",
      "\n"
     ]
    },
    {
     "name": "stderr",
     "output_type": "stream",
     "text": [
      "\n",
      "/fsx/shivr/venv/lib64/python3.7/site-packages/sklearn/metrics/_classification.py:1318: UndefinedMetricWarning: Precision and F-score are ill-defined and being set to 0.0 in labels with no predicted samples. Use `zero_division` parameter to control this behavior.\n",
      "  _warn_prf(average, modifier, msg_start, len(result))\n",
      "/fsx/shivr/venv/lib64/python3.7/site-packages/sklearn/metrics/_classification.py:1318: UndefinedMetricWarning: Precision and F-score are ill-defined and being set to 0.0 in labels with no predicted samples. Use `zero_division` parameter to control this behavior.\n",
      "  _warn_prf(average, modifier, msg_start, len(result))\n",
      "/fsx/shivr/venv/lib64/python3.7/site-packages/sklearn/metrics/_classification.py:1318: UndefinedMetricWarning: Precision and F-score are ill-defined and being set to 0.0 in labels with no predicted samples. Use `zero_division` parameter to control this behavior.\n",
      "  _warn_prf(average, modifier, msg_start, len(result))\n"
     ]
    }
   ],
   "source": [
    "for epoch in range(n_epochs):\n",
    "    print(\"-\"*10, f\"TRAIN EPOCH: {epoch}\", \"-\"*10)\n",
    "    train(model, train_loader, criterion, optimizer)\n",
    "    print(\"-\"*10, f\"VALID EPOCH: {epoch}\", \"-\"*10)\n",
    "    validate(model, val_loader)\n",
    "    print()"
   ]
  },
  {
   "cell_type": "code",
   "execution_count": 18,
   "metadata": {},
   "outputs": [
    {
     "name": "stderr",
     "output_type": "stream",
     "text": [
      "100%|██████████| 103/103 [06:52<00:00,  4.01s/it]"
     ]
    },
    {
     "name": "stdout",
     "output_type": "stream",
     "text": [
      "Loss: 0.6949231422063217\n",
      "              precision    recall  f1-score   support\n",
      "\n",
      "           0       0.51      1.00      0.68       845\n",
      "           1       0.00      0.00      0.00       797\n",
      "\n",
      "    accuracy                           0.51      1642\n",
      "   macro avg       0.26      0.50      0.34      1642\n",
      "weighted avg       0.26      0.51      0.35      1642\n",
      "\n"
     ]
    },
    {
     "name": "stderr",
     "output_type": "stream",
     "text": [
      "\n",
      "/fsx/shivr/venv/lib64/python3.7/site-packages/sklearn/metrics/_classification.py:1318: UndefinedMetricWarning: Precision and F-score are ill-defined and being set to 0.0 in labels with no predicted samples. Use `zero_division` parameter to control this behavior.\n",
      "  _warn_prf(average, modifier, msg_start, len(result))\n",
      "/fsx/shivr/venv/lib64/python3.7/site-packages/sklearn/metrics/_classification.py:1318: UndefinedMetricWarning: Precision and F-score are ill-defined and being set to 0.0 in labels with no predicted samples. Use `zero_division` parameter to control this behavior.\n",
      "  _warn_prf(average, modifier, msg_start, len(result))\n",
      "/fsx/shivr/venv/lib64/python3.7/site-packages/sklearn/metrics/_classification.py:1318: UndefinedMetricWarning: Precision and F-score are ill-defined and being set to 0.0 in labels with no predicted samples. Use `zero_division` parameter to control this behavior.\n",
      "  _warn_prf(average, modifier, msg_start, len(result))\n"
     ]
    }
   ],
   "source": [
    "validate(model, test_loader)"
   ]
  },
  {
   "cell_type": "code",
   "execution_count": 32,
   "metadata": {},
   "outputs": [
    {
     "name": "stderr",
     "output_type": "stream",
     "text": [
      "  0%|          | 0/1232 [00:01<?, ?it/s]"
     ]
    },
    {
     "name": "stdout",
     "output_type": "stream",
     "text": [
      "tensor([[-0.0314],\n",
      "        [-0.0078],\n",
      "        [-0.0403],\n",
      "        [ 0.0338]], device='cuda:0', grad_fn=<AddmmBackward0>)\n",
      "tensor([0.4922, 0.4981, 0.4899, 0.5085], grad_fn=<SqueezeBackward1>)\n",
      "tensor(0.6791, grad_fn=<BinaryCrossEntropyBackward0>)\n",
      "tensor([0, 0, 0, 1])\n",
      "[0, 0, 0, 1]\n"
     ]
    },
    {
     "name": "stderr",
     "output_type": "stream",
     "text": [
      "\n"
     ]
    }
   ],
   "source": [
    "for i, batch in enumerate(tqdm(train_loader)):\n",
    "    out = model(batch[0].to(device))\n",
    "    print(out)\n",
    "    out = torch.squeeze(torch.sigmoid(out).cpu(), 1)\n",
    "    print(out)\n",
    "    loss = criterion(out, torch.tensor(batch[1], dtype=torch.float))\n",
    "    print(loss)\n",
    "    preds = torch.where(out >= 0.5, 1, 0)\n",
    "    print(preds)\n",
    "    print(batch[1])\n",
    "\n",
    "    break"
   ]
  },
  {
   "cell_type": "code",
   "execution_count": null,
   "metadata": {},
   "outputs": [],
   "source": []
  }
 ],
 "metadata": {
  "kernelspec": {
   "display_name": "Python 3 (ipykernel)",
   "language": "python",
   "name": "python3"
  },
  "language_info": {
   "codemirror_mode": {
    "name": "ipython",
    "version": 3
   },
   "file_extension": ".py",
   "mimetype": "text/x-python",
   "name": "python",
   "nbconvert_exporter": "python",
   "pygments_lexer": "ipython3",
   "version": "3.7.10"
  },
  "vscode": {
   "interpreter": {
    "hash": "646f9c769b675ff48149552507c40475eac648ab2d13e74a02784383a8a728be"
   }
  }
 },
 "nbformat": 4,
 "nbformat_minor": 2
}
