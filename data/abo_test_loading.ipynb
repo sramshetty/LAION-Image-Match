{
 "cells": [
  {
   "cell_type": "code",
   "execution_count": 1,
   "metadata": {},
   "outputs": [
    {
     "name": "stderr",
     "output_type": "stream",
     "text": [
      "/home/shivr/.local/lib/python3.8/site-packages/tqdm/auto.py:22: TqdmWarning: IProgress not found. Please update jupyter and ipywidgets. See https://ipywidgets.readthedocs.io/en/stable/user_install.html\n",
      "  from .autonotebook import tqdm as notebook_tqdm\n"
     ]
    }
   ],
   "source": [
    "import torch\n",
    "from torch.utils.data import Dataset, DataLoader\n",
    "import pandas as pd\n",
    "from PIL import Image"
   ]
  },
  {
   "cell_type": "code",
   "execution_count": 2,
   "metadata": {},
   "outputs": [],
   "source": [
    "abo_metadata = ***Metadata CSV***\n",
    "abo_images = ***Image Directory***"
   ]
  },
  {
   "cell_type": "code",
   "execution_count": 3,
   "metadata": {},
   "outputs": [
    {
     "data": {
      "text/html": [
       "<div>\n",
       "<style scoped>\n",
       "    .dataframe tbody tr th:only-of-type {\n",
       "        vertical-align: middle;\n",
       "    }\n",
       "\n",
       "    .dataframe tbody tr th {\n",
       "        vertical-align: top;\n",
       "    }\n",
       "\n",
       "    .dataframe thead th {\n",
       "        text-align: right;\n",
       "    }\n",
       "</style>\n",
       "<table border=\"1\" class=\"dataframe\">\n",
       "  <thead>\n",
       "    <tr style=\"text-align: right;\">\n",
       "      <th></th>\n",
       "      <th>spin_id</th>\n",
       "      <th>azimuth</th>\n",
       "      <th>image_id</th>\n",
       "      <th>height</th>\n",
       "      <th>width</th>\n",
       "      <th>path</th>\n",
       "    </tr>\n",
       "  </thead>\n",
       "  <tbody>\n",
       "    <tr>\n",
       "      <th>0</th>\n",
       "      <td>61c91265</td>\n",
       "      <td>0</td>\n",
       "      <td>41wqHws7a6L</td>\n",
       "      <td>248</td>\n",
       "      <td>1075</td>\n",
       "      <td>61/61c91265/61c91265_00.jpg</td>\n",
       "    </tr>\n",
       "    <tr>\n",
       "      <th>1</th>\n",
       "      <td>61c91265</td>\n",
       "      <td>1</td>\n",
       "      <td>41++eZZHP9L</td>\n",
       "      <td>248</td>\n",
       "      <td>1075</td>\n",
       "      <td>61/61c91265/61c91265_01.jpg</td>\n",
       "    </tr>\n",
       "    <tr>\n",
       "      <th>2</th>\n",
       "      <td>61c91265</td>\n",
       "      <td>2</td>\n",
       "      <td>41YF86LhGDL</td>\n",
       "      <td>248</td>\n",
       "      <td>1075</td>\n",
       "      <td>61/61c91265/61c91265_02.jpg</td>\n",
       "    </tr>\n",
       "    <tr>\n",
       "      <th>3</th>\n",
       "      <td>61c91265</td>\n",
       "      <td>3</td>\n",
       "      <td>41I5Zz-kbAL</td>\n",
       "      <td>248</td>\n",
       "      <td>1075</td>\n",
       "      <td>61/61c91265/61c91265_03.jpg</td>\n",
       "    </tr>\n",
       "    <tr>\n",
       "      <th>4</th>\n",
       "      <td>61c91265</td>\n",
       "      <td>4</td>\n",
       "      <td>41lAQM2Ys5L</td>\n",
       "      <td>248</td>\n",
       "      <td>1075</td>\n",
       "      <td>61/61c91265/61c91265_04.jpg</td>\n",
       "    </tr>\n",
       "  </tbody>\n",
       "</table>\n",
       "</div>"
      ],
      "text/plain": [
       "    spin_id  azimuth     image_id  height  width                         path\n",
       "0  61c91265        0  41wqHws7a6L     248   1075  61/61c91265/61c91265_00.jpg\n",
       "1  61c91265        1  41++eZZHP9L     248   1075  61/61c91265/61c91265_01.jpg\n",
       "2  61c91265        2  41YF86LhGDL     248   1075  61/61c91265/61c91265_02.jpg\n",
       "3  61c91265        3  41I5Zz-kbAL     248   1075  61/61c91265/61c91265_03.jpg\n",
       "4  61c91265        4  41lAQM2Ys5L     248   1075  61/61c91265/61c91265_04.jpg"
      ]
     },
     "execution_count": 3,
     "metadata": {},
     "output_type": "execute_result"
    }
   ],
   "source": [
    "df = pd.read_csv(abo_metadata)\n",
    "df.head()"
   ]
  },
  {
   "cell_type": "code",
   "execution_count": 4,
   "metadata": {},
   "outputs": [
    {
     "data": {
      "text/html": [
       "<div>\n",
       "<style scoped>\n",
       "    .dataframe tbody tr th:only-of-type {\n",
       "        vertical-align: middle;\n",
       "    }\n",
       "\n",
       "    .dataframe tbody tr th {\n",
       "        vertical-align: top;\n",
       "    }\n",
       "\n",
       "    .dataframe thead th {\n",
       "        text-align: right;\n",
       "    }\n",
       "</style>\n",
       "<table border=\"1\" class=\"dataframe\">\n",
       "  <thead>\n",
       "    <tr style=\"text-align: right;\">\n",
       "      <th></th>\n",
       "      <th>spin_id</th>\n",
       "      <th>azimuth</th>\n",
       "      <th>image_id</th>\n",
       "      <th>height</th>\n",
       "      <th>width</th>\n",
       "      <th>path</th>\n",
       "    </tr>\n",
       "  </thead>\n",
       "  <tbody>\n",
       "    <tr>\n",
       "      <th>0</th>\n",
       "      <td>61c91265</td>\n",
       "      <td>0</td>\n",
       "      <td>41wqHws7a6L</td>\n",
       "      <td>248</td>\n",
       "      <td>1075</td>\n",
       "      <td>61/61c91265/61c91265_00.jpg</td>\n",
       "    </tr>\n",
       "    <tr>\n",
       "      <th>1</th>\n",
       "      <td>61c91265</td>\n",
       "      <td>1</td>\n",
       "      <td>41++eZZHP9L</td>\n",
       "      <td>248</td>\n",
       "      <td>1075</td>\n",
       "      <td>61/61c91265/61c91265_01.jpg</td>\n",
       "    </tr>\n",
       "    <tr>\n",
       "      <th>2</th>\n",
       "      <td>61c91265</td>\n",
       "      <td>2</td>\n",
       "      <td>41YF86LhGDL</td>\n",
       "      <td>248</td>\n",
       "      <td>1075</td>\n",
       "      <td>61/61c91265/61c91265_02.jpg</td>\n",
       "    </tr>\n",
       "    <tr>\n",
       "      <th>3</th>\n",
       "      <td>61c91265</td>\n",
       "      <td>3</td>\n",
       "      <td>41I5Zz-kbAL</td>\n",
       "      <td>248</td>\n",
       "      <td>1075</td>\n",
       "      <td>61/61c91265/61c91265_03.jpg</td>\n",
       "    </tr>\n",
       "    <tr>\n",
       "      <th>4</th>\n",
       "      <td>61c91265</td>\n",
       "      <td>4</td>\n",
       "      <td>41lAQM2Ys5L</td>\n",
       "      <td>248</td>\n",
       "      <td>1075</td>\n",
       "      <td>61/61c91265/61c91265_04.jpg</td>\n",
       "    </tr>\n",
       "    <tr>\n",
       "      <th>...</th>\n",
       "      <td>...</td>\n",
       "      <td>...</td>\n",
       "      <td>...</td>\n",
       "      <td>...</td>\n",
       "      <td>...</td>\n",
       "      <td>...</td>\n",
       "    </tr>\n",
       "    <tr>\n",
       "      <th>67</th>\n",
       "      <td>61c91265</td>\n",
       "      <td>67</td>\n",
       "      <td>41vc8QEtYOL</td>\n",
       "      <td>248</td>\n",
       "      <td>1075</td>\n",
       "      <td>61/61c91265/61c91265_67.jpg</td>\n",
       "    </tr>\n",
       "    <tr>\n",
       "      <th>68</th>\n",
       "      <td>61c91265</td>\n",
       "      <td>68</td>\n",
       "      <td>41DIITDX4hL</td>\n",
       "      <td>248</td>\n",
       "      <td>1075</td>\n",
       "      <td>61/61c91265/61c91265_68.jpg</td>\n",
       "    </tr>\n",
       "    <tr>\n",
       "      <th>69</th>\n",
       "      <td>61c91265</td>\n",
       "      <td>69</td>\n",
       "      <td>41Ptx3uwALL</td>\n",
       "      <td>248</td>\n",
       "      <td>1075</td>\n",
       "      <td>61/61c91265/61c91265_69.jpg</td>\n",
       "    </tr>\n",
       "    <tr>\n",
       "      <th>70</th>\n",
       "      <td>61c91265</td>\n",
       "      <td>70</td>\n",
       "      <td>41fLE91QPVL</td>\n",
       "      <td>248</td>\n",
       "      <td>1075</td>\n",
       "      <td>61/61c91265/61c91265_70.jpg</td>\n",
       "    </tr>\n",
       "    <tr>\n",
       "      <th>71</th>\n",
       "      <td>61c91265</td>\n",
       "      <td>71</td>\n",
       "      <td>41Zl8BryHbL</td>\n",
       "      <td>248</td>\n",
       "      <td>1075</td>\n",
       "      <td>61/61c91265/61c91265_71.jpg</td>\n",
       "    </tr>\n",
       "  </tbody>\n",
       "</table>\n",
       "<p>72 rows × 6 columns</p>\n",
       "</div>"
      ],
      "text/plain": [
       "     spin_id  azimuth     image_id  height  width                         path\n",
       "0   61c91265        0  41wqHws7a6L     248   1075  61/61c91265/61c91265_00.jpg\n",
       "1   61c91265        1  41++eZZHP9L     248   1075  61/61c91265/61c91265_01.jpg\n",
       "2   61c91265        2  41YF86LhGDL     248   1075  61/61c91265/61c91265_02.jpg\n",
       "3   61c91265        3  41I5Zz-kbAL     248   1075  61/61c91265/61c91265_03.jpg\n",
       "4   61c91265        4  41lAQM2Ys5L     248   1075  61/61c91265/61c91265_04.jpg\n",
       "..       ...      ...          ...     ...    ...                          ...\n",
       "67  61c91265       67  41vc8QEtYOL     248   1075  61/61c91265/61c91265_67.jpg\n",
       "68  61c91265       68  41DIITDX4hL     248   1075  61/61c91265/61c91265_68.jpg\n",
       "69  61c91265       69  41Ptx3uwALL     248   1075  61/61c91265/61c91265_69.jpg\n",
       "70  61c91265       70  41fLE91QPVL     248   1075  61/61c91265/61c91265_70.jpg\n",
       "71  61c91265       71  41Zl8BryHbL     248   1075  61/61c91265/61c91265_71.jpg\n",
       "\n",
       "[72 rows x 6 columns]"
      ]
     },
     "execution_count": 4,
     "metadata": {},
     "output_type": "execute_result"
    }
   ],
   "source": [
    "df[df['spin_id'] == \"61c91265\"]"
   ]
  },
  {
   "cell_type": "code",
   "execution_count": 5,
   "metadata": {},
   "outputs": [],
   "source": [
    "class AboSpinsDataset(Dataset):\n",
    "\n",
    "    def __init__(self, df, id_name=\"spin_id\", seq_len=10, negative_ratio=0.5, seed=None):\n",
    "        self.df = df\n",
    "        self.id_col = \"spin_id\"\n",
    "        self.unique_ids = self.df[self.id_col].unique()\n",
    "        self.seq_len = seq_len\n",
    "        self.neg_ratio = negative_ratio\n",
    "        self.n = len(self.unique_ids)\n",
    "        \n",
    "        if seed is not None:\n",
    "            torch.manual_seed(seed)\n",
    "    \n",
    "    def __len__(self):\n",
    "        return self.n\n",
    "\n",
    "    def __getitem__(self, index):\n",
    "        spin_id = self.unique_ids[index]\n",
    "\n",
    "        # Determine if this sample is a negative sample or not\n",
    "        negative = True if torch.rand(1)[0] < self.neg_ratio else False \n",
    "\n",
    "        id_rows = self.df[self.df[self.id_col] == spin_id]\n",
    "        seq_len = min(len(id_rows), self.seq_len)\n",
    "        \n",
    "        samples = id_rows.sample(seq_len)\n",
    "\n",
    "        # If negative sample, randomly find another image that is not share the same id\n",
    "        if negative:\n",
    "            x_matches = samples.iloc[:-1]\n",
    "            y_match = self.df[self.df[self.id_col] != spin_id].sample(1)\n",
    "        else:\n",
    "            x_matches = samples.iloc[:-1]\n",
    "            y_match = samples.iloc[-1:]\n",
    "        \n",
    "        paths = pd.concat([x_matches, y_match], ignore_index=True)['path'].tolist()\n",
    "        return paths, not negative\n"
   ]
  },
  {
   "cell_type": "code",
   "execution_count": 6,
   "metadata": {},
   "outputs": [],
   "source": [
    "abo_data = AboSpinsDataset(df)"
   ]
  },
  {
   "cell_type": "code",
   "execution_count": 7,
   "metadata": {},
   "outputs": [
    {
     "data": {
      "text/plain": [
       "['a8/a8d1f30b/a8d1f30b_28.jpg',\n",
       " 'a8/a8d1f30b/a8d1f30b_16.jpg',\n",
       " 'a8/a8d1f30b/a8d1f30b_68.jpg',\n",
       " 'a8/a8d1f30b/a8d1f30b_14.jpg',\n",
       " 'a8/a8d1f30b/a8d1f30b_39.jpg',\n",
       " 'a8/a8d1f30b/a8d1f30b_66.jpg',\n",
       " 'a8/a8d1f30b/a8d1f30b_62.jpg',\n",
       " 'a8/a8d1f30b/a8d1f30b_41.jpg',\n",
       " 'a8/a8d1f30b/a8d1f30b_33.jpg',\n",
       " 'a8/a8d1f30b/a8d1f30b_34.jpg']"
      ]
     },
     "execution_count": 7,
     "metadata": {},
     "output_type": "execute_result"
    }
   ],
   "source": [
    "x, label = abo_data.__getitem__(1)\n",
    "x"
   ]
  },
  {
   "cell_type": "code",
   "execution_count": 8,
   "metadata": {},
   "outputs": [],
   "source": [
    "from transformers import AutoProcessor, AutoModel\n",
    "\n",
    "processor = AutoProcessor.from_pretrained(\"laion/CLIP-ViT-H-14-laion2B-s32B-b79K\")\n",
    "model = AutoModel.from_pretrained(\"laion/CLIP-ViT-H-14-laion2B-s32B-b79K\")"
   ]
  },
  {
   "cell_type": "code",
   "execution_count": 12,
   "metadata": {},
   "outputs": [],
   "source": [
    "def collate_fn(batch):\n",
    "    features = []\n",
    "    labels = []\n",
    "    for x, label in batch:\n",
    "        imgs = [Image.open(abo_images + path) for path in x]\n",
    "        inputs = processor(images=imgs, return_tensors='pt')\n",
    "        \n",
    "        features.append(model.get_image_features(**inputs).unsqueeze(0))\n",
    "        labels += [1] if label else [0]\n",
    "\n",
    "    return torch.cat(features), labels"
   ]
  },
  {
   "cell_type": "code",
   "execution_count": 13,
   "metadata": {},
   "outputs": [],
   "source": [
    "abo_loader = DataLoader(abo_data, batch_size=4, shuffle=True, collate_fn=collate_fn)"
   ]
  },
  {
   "cell_type": "code",
   "execution_count": 14,
   "metadata": {},
   "outputs": [
    {
     "name": "stdout",
     "output_type": "stream",
     "text": [
      "torch.Size([4, 10, 1024])\n"
     ]
    }
   ],
   "source": [
    "for batch in abo_loader:\n",
    "    print(batch[0].size())\n",
    "    break"
   ]
  },
  {
   "cell_type": "code",
   "execution_count": null,
   "metadata": {},
   "outputs": [],
   "source": []
  }
 ],
 "metadata": {
  "kernelspec": {
   "display_name": "Python 3.8.5 64-bit",
   "language": "python",
   "name": "python3"
  },
  "language_info": {
   "codemirror_mode": {
    "name": "ipython",
    "version": 3
   },
   "file_extension": ".py",
   "mimetype": "text/x-python",
   "name": "python",
   "nbconvert_exporter": "python",
   "pygments_lexer": "ipython3",
   "version": "3.8.5"
  },
  "orig_nbformat": 4,
  "vscode": {
   "interpreter": {
    "hash": "5b3ded1ccb95c1d9bd405e7b823d9e85424cde40fbb5985eb47e999ef50e15b4"
   }
  }
 },
 "nbformat": 4,
 "nbformat_minor": 2
}
